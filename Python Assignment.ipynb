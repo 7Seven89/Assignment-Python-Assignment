{
 "cells": [
  {
   "cell_type": "markdown",
   "id": "a154a4e3-d08f-4fdb-a902-4a11332f9537",
   "metadata": {},
   "source": [
    "**Q1. Create a python program to sort the given list of tuples based on integer value using a\n",
    "lambda function.**"
   ]
  },
  {
   "cell_type": "code",
   "execution_count": 1,
   "id": "00fab036-eed5-4ef8-b848-27c512cb2ce5",
   "metadata": {},
   "outputs": [],
   "source": [
    "lst_1 = [\n",
    "    (\"Sachin Tendulkar\", 34357),\n",
    "    (\"Ricky Ponting\", 27483),\n",
    "    (\"Jack Kallis\", 25534),\n",
    "    (\"Virat Kohli\", 24936),\n",
    "]"
   ]
  },
  {
   "cell_type": "code",
   "execution_count": 11,
   "id": "ce20050a-47c1-4369-91f7-976d956329a9",
   "metadata": {},
   "outputs": [
    {
     "data": {
      "text/plain": [
       "[('Virat Kohli', 24936),\n",
       " ('Jack Kallis', 25534),\n",
       " ('Ricky Ponting', 27483),\n",
       " ('Sachin Tendulkar', 34357)]"
      ]
     },
     "execution_count": 11,
     "metadata": {},
     "output_type": "execute_result"
    }
   ],
   "source": [
    "# A1.\n",
    "sorted(lst_1, key=lambda x: x[1])"
   ]
  },
  {
   "cell_type": "markdown",
   "id": "41906fc3-f256-43dc-ac00-9ae2a499a0bb",
   "metadata": {},
   "source": [
    "**Q2. Write a Python Program to find the squares of all the numbers in the given list of integers using\n",
    "lambda and map functions.**"
   ]
  },
  {
   "cell_type": "code",
   "execution_count": 13,
   "id": "cd7a9220-ba6f-41c0-91be-80763c818efd",
   "metadata": {},
   "outputs": [],
   "source": [
    "lst_2 = [1, 2, 3, 4, 5, 6, 7, 8, 9, 10]"
   ]
  },
  {
   "cell_type": "code",
   "execution_count": 20,
   "id": "cc6b28f0-7fdc-40c1-bbc5-e7f2e2ac8df4",
   "metadata": {},
   "outputs": [
    {
     "data": {
      "text/plain": [
       "[1, 4, 9, 16, 25, 36, 49, 64, 81, 100]"
      ]
     },
     "execution_count": 20,
     "metadata": {},
     "output_type": "execute_result"
    }
   ],
   "source": [
    "# A2.\n",
    "func_lam = lambda x: x**2\n",
    "list(map(func_lam, lst_2))"
   ]
  },
  {
   "cell_type": "markdown",
   "id": "59ee1ab3-7720-405a-8997-5ea3d7b2c697",
   "metadata": {},
   "source": [
    "**Q3. Write a python program to convert the given list of integers into a tuple of strings. Use map and\n",
    "lambda functions**"
   ]
  },
  {
   "cell_type": "code",
   "execution_count": 21,
   "id": "0baace14-6b7f-44a5-aca7-3d0bd7740ac0",
   "metadata": {},
   "outputs": [],
   "source": [
    "lst_3 = [1, 2, 3, 4, 5, 6, 7, 8, 9, 10]"
   ]
  },
  {
   "cell_type": "code",
   "execution_count": 26,
   "id": "893d29dd-0e40-49ef-a664-d6b796e8590a",
   "metadata": {},
   "outputs": [
    {
     "data": {
      "text/plain": [
       "('1', '2', '3', '4', '5', '6', '7', '8', '9', '10')"
      ]
     },
     "execution_count": 26,
     "metadata": {},
     "output_type": "execute_result"
    }
   ],
   "source": [
    "# A3.\n",
    "func_lam2 = lambda x: str(x)\n",
    "tuple(map(func_lam2, lst_3))"
   ]
  },
  {
   "cell_type": "markdown",
   "id": "803f4700-e678-4ade-8c4c-421529c93543",
   "metadata": {},
   "source": [
    "**Q4. Write a python program using reduce function to compute the product of a list containing numbers\n",
    "from 1 to 25.**"
   ]
  },
  {
   "cell_type": "code",
   "execution_count": 33,
   "id": "953766df-b4c2-47be-98d5-f8ab4abbbf0f",
   "metadata": {},
   "outputs": [],
   "source": [
    "from functools import reduce"
   ]
  },
  {
   "cell_type": "code",
   "execution_count": 34,
   "id": "3cb3dcac-9101-4da2-b7a3-c4a244f98123",
   "metadata": {},
   "outputs": [
    {
     "name": "stdout",
     "output_type": "stream",
     "text": [
      "15511210043330985984000000\n"
     ]
    }
   ],
   "source": [
    "# A4.\n",
    "lst_nums = list(range(1, 26))\n",
    "func_lam3 = lambda x, y: x * y\n",
    "\n",
    "print(reduce(func_lam3, lst_nums))"
   ]
  },
  {
   "cell_type": "markdown",
   "id": "7f8947fc-814f-477c-9c90-b8d5b77ddc0e",
   "metadata": {},
   "source": [
    "**Q5. Write a python program to filter the numbers in a given list that are divisible by 2 and 3 using the\n",
    "filter function.**"
   ]
  },
  {
   "cell_type": "code",
   "execution_count": 37,
   "id": "3f2add5e-7908-4233-bde3-8a1aad6530f4",
   "metadata": {},
   "outputs": [],
   "source": [
    "lst_4 = [2, 3, 6, 9, 27, 60, 90, 120, 55, 46]"
   ]
  },
  {
   "cell_type": "code",
   "execution_count": 38,
   "id": "3f1cd872-1b06-4102-ba51-c5d9bb1432aa",
   "metadata": {},
   "outputs": [
    {
     "data": {
      "text/plain": [
       "[6, 60, 90, 120]"
      ]
     },
     "execution_count": 38,
     "metadata": {},
     "output_type": "execute_result"
    }
   ],
   "source": [
    "# A5.\n",
    "\n",
    "\n",
    "def is_divisible(num):\n",
    "    return num % 2 == 0 and num % 3 == 0\n",
    "\n",
    "\n",
    "list(filter(is_divisible, lst_4))"
   ]
  },
  {
   "cell_type": "markdown",
   "id": "70971c99-f192-4dca-8e03-cbf0cef6d8c9",
   "metadata": {},
   "source": [
    "**Q6. Write a python program to find palindromes in the given list of strings using lambda and filter\n",
    "function.**"
   ]
  },
  {
   "cell_type": "code",
   "execution_count": 39,
   "id": "196dbb71-b575-472f-a64b-fc9e755636a4",
   "metadata": {},
   "outputs": [],
   "source": [
    "lst_5 = [\"python\", \"php\", \"aba\", \"radar\", \"level\"]"
   ]
  },
  {
   "cell_type": "code",
   "execution_count": 42,
   "id": "5ab8a9c9-b9d9-4def-bc8b-b301f9092314",
   "metadata": {},
   "outputs": [
    {
     "data": {
      "text/plain": [
       "['php', 'aba', 'radar', 'level']"
      ]
     },
     "execution_count": 42,
     "metadata": {},
     "output_type": "execute_result"
    }
   ],
   "source": [
    "# A6.\n",
    "\n",
    "is_palin = lambda x: x == x[::-1]\n",
    "list(filter(is_palin, lst_5))"
   ]
  },
  {
   "cell_type": "code",
   "execution_count": null,
   "id": "5d83e521-ae78-4a7a-a1b3-62c4c48d2e38",
   "metadata": {},
   "outputs": [],
   "source": []
  }
 ],
 "metadata": {
  "kernelspec": {
   "display_name": "Python 3 (ipykernel)",
   "language": "python",
   "name": "python3"
  },
  "language_info": {
   "codemirror_mode": {
    "name": "ipython",
    "version": 3
   },
   "file_extension": ".py",
   "mimetype": "text/x-python",
   "name": "python",
   "nbconvert_exporter": "python",
   "pygments_lexer": "ipython3",
   "version": "3.12.2"
  }
 },
 "nbformat": 4,
 "nbformat_minor": 5
}
